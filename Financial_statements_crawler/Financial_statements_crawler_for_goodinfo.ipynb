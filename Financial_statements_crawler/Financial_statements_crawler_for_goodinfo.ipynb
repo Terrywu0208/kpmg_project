{
 "cells": [
  {
   "cell_type": "code",
   "execution_count": null,
   "metadata": {},
   "outputs": [],
   "source": [
    "# 綜合損益表\n",
    "import requests\n",
    "import pandas as pd\n",
    "\n",
    "url = 'https://goodinfo.tw/tw/StockFinDetail.asp'\n",
    "payload = {\n",
    "    \"STEP\": \"DATA\",\n",
    "    \"STOCK_ID\": \"2330\",\n",
    "    \"RPT_CAT\": \"BS_M_QUAR\",\n",
    "    \"QRY_TIME\": \"20214\",\n",
    "        }\n",
    "\n",
    "head = {\n",
    "    \"accept\": \"*/*\",\n",
    "    \"accept-encoding\": \"gzip, deflate, br\",\n",
    "    \"accept-language\": \"zh-TW,zh;q=0.9,en-US;q=0.8,en;q=0.7\",\n",
    "    \"content-length\": \"0\",\n",
    "    \"content-type\": \"application/x-www-form-urlencoded;\",\n",
    "    \"cookie\": \"CLIENT%5FID=20220425235631617%5F36%2E230%2E4%2E135; IS_TOUCH_DEVICE=F; SCREEN_SIZE=WIDTH=1536&HEIGHT=864; _gid=GA1.2.1213123040.1650902297; __gads=ID=1f8c81953330a6c9-229f9b696fd2003f:T=1650902297:RT=1650902297:S=ALNI_MZBs5Y7QXs10Z9fw55W49xHm1ww7w; TW_STOCK_BROWSE_LIST=2330; _ga=GA1.1.2019274563.1650902296; _ga_0LP5MLQS7E=GS1.1.1650902296.1.1.1650902368.60\",\n",
    "    \"origin\": \"https://goodinfo.tw\",\n",
    "    \"referer\": \"https://goodinfo.tw/tw/StockFinDetail.asp?RPT_CAT=BS_M_QUAR&STOCK_ID=2330\",\n",
    "    \"sec-ch-ua\": '\" Not A;Brand\";v=\"99\", \"Chromium\";v=\"100\", \"Google Chrome\";v=\"100\"',\n",
    "    \"sec-ch-ua-mobile\": \"?0\",\n",
    "    \"sec-ch-ua-platform\": '\"Windows\"',\n",
    "    \"sec-fetch-dest\": \"empty\",\n",
    "    \"sec-fetch-mode\": \"cors\",\n",
    "    \"sec-fetch-site\": \"same-origin\",\n",
    "    \"user-agent\": \"Mozilla/5.0 (Windows NT 10.0; Win64; x64) AppleWebKit/537.36 (KHTML, like Gecko) Chrome/100.0.4896.127 Safari/537.36\"\n",
    "    }\n",
    "\n",
    "res = requests.post(url , data = payload,headers=head)\n",
    "# df = pd.read_html(res.text)\n",
    "\n",
    "res.encoding = \"utf-8\"\n",
    "res.text\n",
    "df = pd.read_html(res.text)[1]\n",
    "df.to_csv(\"asd.csv\",encoding=\"utf-8-sig\")"
   ]
  }
 ],
 "metadata": {
  "language_info": {
   "name": "python"
  },
  "orig_nbformat": 4
 },
 "nbformat": 4,
 "nbformat_minor": 2
}
