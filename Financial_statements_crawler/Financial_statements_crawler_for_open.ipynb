{
 "cells": [
  {
   "cell_type": "code",
   "execution_count": 5,
   "metadata": {},
   "outputs": [],
   "source": [
    "# 綜合損益表\n",
    "import requests\n",
    "import pandas as pd\n",
    "import os\n",
    "def get_income_statement(sym, year, season, kind):\n",
    "    global df, res\n",
    "    if kind == '資產負債表':\n",
    "        url = 'https://mops.twse.com.tw/mops/web/ajax_t164sb03'\n",
    "    elif kind == '綜合損益表':\n",
    "        url = 'https://mops.twse.com.tw/mops/web/ajax_t164sb04'\n",
    "    elif kind == '現金流量表':\n",
    "        url = 'https://mops.twse.com.tw/mops/web/ajax_t164sb05'\n",
    "    elif kind == '權益變動表':\n",
    "        url = 'https://mops.twse.com.tw/mops/web/ajax_t164sb06'\n",
    "\n",
    "    payload = {\n",
    "                'encodeURIComponent': '1',\n",
    "                'step': '1',\n",
    "                'firstin': '1',\n",
    "                'off': '1',\n",
    "                'queryName': 'co_id',\n",
    "                'inpuType': 'co_id',\n",
    "                'TYPEK': 'all',\n",
    "                'isnew': 'false',\n",
    "                'co_id': str(sym),\n",
    "                'year': str(year),\n",
    "                'season': str(season),\n",
    "            }\n",
    "    res = requests.post(url , data = payload)\n",
    "    df = pd.read_html(res.text)[1]\n",
    "    df.to_csv(name+\"_\"+str(sym)+\"/\"+kind+\"/\"+str(sym)+\"_\"+str(year)+\"_\"+str(season)+\"_\"+kind+\".csv\", encoding=\"utf-8-sig\")\n",
    "# kind_list = ['資產負債表','綜合損益表','現金流量表','權益變動表'] \n",
    "kind_list = ['資產負債表','綜合損益表','現金流量表'] \n",
    "\n",
    "co_id_dict = {\n",
    "    \"萬企\":2701,\n",
    "    \"華園\":2702,\n",
    "    \"國賓\" :2704,\n",
    "    \"六福\" :2705, \n",
    "    \"第一店\" :2706,\t\n",
    "    \"晶華\" :2707,\t\n",
    "    \"遠雄來\" :2712, \n",
    "    \"夏都\" :2722,\n",
    "    \"美食-KY\" :2723,\n",
    "    \"王品\" :2727,\n",
    "    \"雄獅\" :2731,\n",
    "    \"寒舍\" :2739,\n",
    "    \"雲品\" :2748,\n",
    "    \"八方雲集\" :2753, \n",
    "    \"鳳凰\" :5706,\n",
    "    \"柏文\" :8462,\n",
    "    \"新天地\" :8940,\n",
    "    \"好樂迪\" :9943\n",
    "}\n",
    "for name, id in co_id_dict.items():\n",
    "    os.mkdir(name+\"_\"+str(id))\n",
    "    for i in kind_list:\n",
    "        os.mkdir(name+\"_\"+str(id)+\"/\"+i)\n",
    "        for year_num in range(102,111):\n",
    "            for season_num in range(1,5):\n",
    "                get_income_statement(id, year_num, season_num,i)"
   ]
  },
  {
   "cell_type": "code",
   "execution_count": 4,
   "metadata": {},
   "outputs": [
    {
     "data": {
      "text/plain": [
       "Unnamed: 0                    NaN\n",
       "民國110年第1季                    會計項目\n",
       "民國110年第1季.1            110年03月31日\n",
       "民國110年第1季.2            110年03月31日\n",
       "民國110年第1季.3            109年12月31日\n",
       "民國110年第1季.4            109年12月31日\n",
       "民國110年第1季.5            109年03月31日\n",
       "民國110年第1季.6            109年03月31日\n",
       "民國110年第1季.7    Unnamed: 7_level_2\n",
       "民國110年第1季.8    Unnamed: 8_level_2\n",
       "Name: 1, dtype: object"
      ]
     },
     "execution_count": 4,
     "metadata": {},
     "output_type": "execute_result"
    }
   ],
   "source": [
    "import pandas as pd\n",
    "\n",
    "df = pd.read_csv(\"資產負債表.csv\")\n",
    "df.iloc[1]"
   ]
  },
  {
   "cell_type": "code",
   "execution_count": null,
   "metadata": {},
   "outputs": [],
   "source": []
  },
  {
   "cell_type": "code",
   "execution_count": null,
   "metadata": {},
   "outputs": [],
   "source": []
  }
 ],
 "metadata": {
  "interpreter": {
   "hash": "2647ea34e536f865ab67ff9ddee7fd78773d956cec0cab53c79b32cd10da5d83"
  },
  "kernelspec": {
   "display_name": "Python 3.9.5 64-bit",
   "language": "python",
   "name": "python3"
  },
  "language_info": {
   "codemirror_mode": {
    "name": "ipython",
    "version": 3
   },
   "file_extension": ".py",
   "mimetype": "text/x-python",
   "name": "python",
   "nbconvert_exporter": "python",
   "pygments_lexer": "ipython3",
   "version": "3.9.5"
  },
  "orig_nbformat": 4
 },
 "nbformat": 4,
 "nbformat_minor": 2
}
