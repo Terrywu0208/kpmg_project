{
 "cells": [
  {
   "cell_type": "code",
   "execution_count": 16,
   "metadata": {},
   "outputs": [],
   "source": [
    "# 綜合損益表\n",
    "import requests\n",
    "import pandas as pd\n",
    "def get_income_statement(sym, year, season):\n",
    "    global df\n",
    "    # if kind == '資產負債表':\n",
    "    #     url = 'https://mops.twse.com.tw/mops/web/ajax_t163sb04'\n",
    "    # elif kind == '綜合損益表':\n",
    "    #     url = 'https://mops.twse.com.tw/mops/web/ajax_t163sb05'\n",
    "    # elif kind == '現金流量表':\n",
    "    #     url = 'https://mops.twse.com.tw/mops/web/ajax_t163sb06'\n",
    "    # elif kind == '權益變動表':\n",
    "    #     url = 'https://mops.twse.com.tw/mops/web/ajax_t163sb06'\n",
    "\n",
    "    url = 'https://mops.twse.com.tw/mops/web/ajax_t164sb04'\n",
    "    payload = {\n",
    "                'encodeURIComponent': '1',\n",
    "                'step': '1',\n",
    "                'firstin': '1',\n",
    "                'off': '1',\n",
    "                'queryName': 'co_id',\n",
    "                'inpuType': 'co_id',\n",
    "                'TYPEK': 'all',\n",
    "                'isnew': 'false',\n",
    "                'co_id': str(sym),\n",
    "                'year': str(year),\n",
    "                'season': str(season),\n",
    "            }\n",
    "    res = requests.post(url , data = payload)\n",
    "    df = pd.read_html(res.text)[1]\n",
    "    df.to_csv(\"text.csv\", encoding=\"utf-8-sig\")\n",
    "\n",
    "get_income_statement(2330, 110, 1)"
   ]
  }
 ],
 "metadata": {
  "interpreter": {
   "hash": "2647ea34e536f865ab67ff9ddee7fd78773d956cec0cab53c79b32cd10da5d83"
  },
  "kernelspec": {
   "display_name": "Python 3.9.5 64-bit",
   "language": "python",
   "name": "python3"
  },
  "language_info": {
   "codemirror_mode": {
    "name": "ipython",
    "version": 3
   },
   "file_extension": ".py",
   "mimetype": "text/x-python",
   "name": "python",
   "nbconvert_exporter": "python",
   "pygments_lexer": "ipython3",
   "version": "3.9.5"
  },
  "orig_nbformat": 4
 },
 "nbformat": 4,
 "nbformat_minor": 2
}
