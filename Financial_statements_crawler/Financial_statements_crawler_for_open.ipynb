{
 "cells": [
  {
   "cell_type": "code",
   "execution_count": 4,
   "metadata": {},
   "outputs": [],
   "source": [
    "# 綜合損益表\n",
    "import requests\n",
    "import pandas as pd\n",
    "def get_income_statement(sym, year, season, kind):\n",
    "    global df, res\n",
    "    if kind == '資產負債表':\n",
    "        url = 'https://mops.twse.com.tw/mops/web/ajax_t164sb03'\n",
    "    elif kind == '綜合損益表':\n",
    "        url = 'https://mops.twse.com.tw/mops/web/ajax_t164sb04'\n",
    "    elif kind == '現金流量表':\n",
    "        url = 'https://mops.twse.com.tw/mops/web/ajax_t164sb05'\n",
    "    elif kind == '權益變動表':\n",
    "        url = 'https://mops.twse.com.tw/mops/web/ajax_t164sb06'\n",
    "\n",
    "    # url = 'https://mops.twse.com.tw/mops/web/ajax_t164sb04'\n",
    "    payload = {\n",
    "                'encodeURIComponent': '1',\n",
    "                'step': '1',\n",
    "                'firstin': '1',\n",
    "                'off': '1',\n",
    "                'queryName': 'co_id',\n",
    "                'inpuType': 'co_id',\n",
    "                'TYPEK': 'all',\n",
    "                'isnew': 'false',\n",
    "                'co_id': str(sym),\n",
    "                'year': str(year),\n",
    "                'season': str(season),\n",
    "            }\n",
    "    res = requests.post(url , data = payload)\n",
    "    df = pd.read_html(res.text)[1]\n",
    "    df.to_csv(kind+\".csv\", encoding=\"utf-8-sig\")\n",
    "\n",
    "kind_list = ['資產負債表','綜合損益表','現金流量表','權益變動表'] \n",
    "for i in kind_list:\n",
    "    get_income_statement(2330, 110, 1,i)"
   ]
  }
 ],
 "metadata": {
  "interpreter": {
   "hash": "2647ea34e536f865ab67ff9ddee7fd78773d956cec0cab53c79b32cd10da5d83"
  },
  "kernelspec": {
   "display_name": "Python 3.9.5 64-bit",
   "language": "python",
   "name": "python3"
  },
  "language_info": {
   "codemirror_mode": {
    "name": "ipython",
    "version": 3
   },
   "file_extension": ".py",
   "mimetype": "text/x-python",
   "name": "python",
   "nbconvert_exporter": "python",
   "pygments_lexer": "ipython3",
   "version": "3.9.5"
  },
  "orig_nbformat": 4
 },
 "nbformat": 4,
 "nbformat_minor": 2
}
