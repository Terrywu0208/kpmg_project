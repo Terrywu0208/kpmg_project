{
 "cells": [
  {
   "cell_type": "code",
   "execution_count": 51,
   "metadata": {},
   "outputs": [],
   "source": [
    "import pandas as pd\n",
    "import wget\n",
    "import time\n",
    "\n",
    "add_col = [\"代號\",\"會計項目\"]\n",
    "\n",
    "def file_download(company_id,year,season):\n",
    "    url = f'https://mops.twse.com.tw/server-java/FileDownLoad?functionName=t164sb01&step=9&co_id={company_id}&year={year}&season={season}&report_id=C'\n",
    "    rq = wget.download(url,out=f\"../temp/{company_id}_{year}_{season}.html\")\n",
    "    time.sleep(1)\n",
    "    clean_df(company_id,year,season)\n",
    "\n",
    "def clean_df(company_id,year,season):\n",
    "    global raw_xbrl\n",
    "    raw_xbrl = pd.read_html(f\"../temp/{company_id}_{year}_{season}.html\")\n",
    "    for df_num in range(0,4):\n",
    "        if df_num != 3:\n",
    "            mutiple_col=raw_xbrl[df_num].columns\n",
    "            raw_xbrl[df_num].columns = [col_name[1]for col_name in mutiple_col]\n",
    "        else:\n",
    "            mutiple_col=raw_xbrl[df_num].columns\n",
    "            new_col = [col_name[2]for col_name in mutiple_col]\n",
    "            new_col[0:2]=add_col\n",
    "            raw_xbrl[df_num].columns = new_col\n",
    "            raw_xbrl[df_num]\n",
    "\n",
    "file_download(2330,2022,1)\n"
   ]
  }
 ],
 "metadata": {
  "interpreter": {
   "hash": "cf92aa13fedf815d5c8dd192b8d835913fde3e8bc926b2a0ad6cc74ef2ba3ca2"
  },
  "kernelspec": {
   "display_name": "Python 3.9.5 64-bit",
   "language": "python",
   "name": "python3"
  },
  "language_info": {
   "codemirror_mode": {
    "name": "ipython",
    "version": 3
   },
   "file_extension": ".py",
   "mimetype": "text/x-python",
   "name": "python",
   "nbconvert_exporter": "python",
   "pygments_lexer": "ipython3",
   "version": "3.9.5"
  },
  "orig_nbformat": 4
 },
 "nbformat": 4,
 "nbformat_minor": 2
}
