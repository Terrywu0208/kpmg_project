{
 "cells": [
  {
   "cell_type": "code",
   "execution_count": null,
   "metadata": {},
   "outputs": [],
   "source": [
    "import MySQLdb\n",
    "conn = MySQLdb.Connect(host = 'localhost',\n",
    "                       port = 3307,\n",
    "                       user = 'root',\n",
    "                       db = 'kpmg',\n",
    "                       charset='utf8')\n",
    "cur = conn.cursor()"
   ]
  },
  {
   "cell_type": "code",
   "execution_count": 10,
   "metadata": {},
   "outputs": [],
   "source": [
    "import MySQLdb\n",
    "conn = MySQLdb.Connect(host = 'localhost',\n",
    "                       port = 3307,\n",
    "                       user = 'root',\n",
    "                       db = 'kpmg',\n",
    "                       charset='utf8')\n",
    "cur = conn.cursor()\n",
    "\n",
    "co_id_dict = {\t\n",
    "    \"晶華\" :2707,\t\n",
    "    \"遠雄來\" :2712, \n",
    "    \"夏都\" :2722,\n",
    "    \"美食-KY\" :2723,\n",
    "    \"王品\" :2727,\n",
    "    \"雄獅\" :2731,\n",
    "    \"寒舍\" :2739,\n",
    "    \"雲品\" :2748,\n",
    "    \"八方雲集\" :2753, \n",
    "    \"鳳凰\" :5706,\n",
    "    \"柏文\" :8462,\n",
    "    \"新天地\" :8940,\n",
    "    \"好樂迪\" :9943\n",
    "}\n",
    "\n",
    "kind_list = [\"Balance_Sheet\",\"Profit_and_Loss_Account\",\"Cash_Flow_Statement\",\"Statement_of_changes_in_equity\"]\n",
    "\n",
    "for co_name,co_id in co_id_dict.items():\n",
    "    if co_id == 2753:\n",
    "        for kind in kind_list:\n",
    "            for year in range(2021,2022):\n",
    "                for season in range(1,5):\n",
    "                    file_path = f\"Financial_statements/{co_id}/{kind}/{co_id}_{year}_{season}.csv\"\n",
    "                    into = \"INSERT INTO `financial_statements`(`company_id`, `company_name`, `kind`, `year`, `season`, `path`) VALUES (%s,%s, %s, %s, %s, %s)\"\n",
    "                    values = (co_id,co_name,kind,year,season,file_path)\n",
    "                    cur.execute(into, values)\n",
    "                    conn.commit()\n",
    "    else:\n",
    "        for kind in kind_list:\n",
    "            for year in range(2019,2022):\n",
    "                for season in range(1,5):\n",
    "                    file_path = f\"Financial_statements/{co_id}/{kind}/{co_id}_{year}_{season}.csv\"\n",
    "                    into = \"INSERT INTO `financial_statements`(`company_id`, `company_name`, `kind`, `year`, `season`, `path`) VALUES (%s,%s, %s, %s, %s, %s)\"\n",
    "                    values = (co_id,co_name,kind,year,season,file_path)\n",
    "                    cur.execute(into, values)\n",
    "                    conn.commit()\n",
    "    "
   ]
  }
 ],
 "metadata": {
  "interpreter": {
   "hash": "cf92aa13fedf815d5c8dd192b8d835913fde3e8bc926b2a0ad6cc74ef2ba3ca2"
  },
  "kernelspec": {
   "display_name": "Python 3.9.5 64-bit",
   "language": "python",
   "name": "python3"
  },
  "language_info": {
   "codemirror_mode": {
    "name": "ipython",
    "version": 3
   },
   "file_extension": ".py",
   "mimetype": "text/x-python",
   "name": "python",
   "nbconvert_exporter": "python",
   "pygments_lexer": "ipython3",
   "version": "3.9.5"
  },
  "orig_nbformat": 4
 },
 "nbformat": 4,
 "nbformat_minor": 2
}
