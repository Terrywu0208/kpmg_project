{
 "cells": [
  {
   "cell_type": "code",
   "execution_count": 42,
   "metadata": {},
   "outputs": [],
   "source": [
    "# 資料庫串接\n",
    "import MySQLdb\n",
    "import pandas as pd\n",
    "conn = MySQLdb.Connect(host = 'localhost',\n",
    "                       port = 3306,\n",
    "                       user = 'root',\n",
    "                       db = 'kpmg',\n",
    "                       charset='utf8')\n",
    "# 輸入你的資料庫連線資訊\n",
    "cur = conn.cursor()\n",
    "\n",
    "# company_id_input = input(\"輸入公司id : \")\n",
    "# kind_input = input(\"輸入kind : \")\n",
    "# year_input = input(\"輸入year : \")\n",
    "# season_input = input(\"輸入season : \")\n",
    "\n",
    "company_id_input = 2707\n",
    "# kind_input = \"Balance_Sheet\" #你要查的表\n",
    "# kind_input = \"Profit_and_Loss_Account\" #你要查的表\n",
    "kind_input = \"Cash_Flow_Statement\" #你要查的表\n",
    "\n",
    "\n",
    "year_input = 2019\n",
    "season_input = 4\n",
    "cur.execute(f\"SELECT `path` FROM `financial_statements` WHERE `company_id` = {company_id_input} AND `kind` = '{kind_input}' AND `year` = {year_input} AND `season` = {season_input} \")\n",
    "result_set = cur.fetchall()\n",
    "\n",
    "df = pd.read_csv(f\"../../{result_set[0][0]}\")"
   ]
  },
  {
   "cell_type": "code",
   "execution_count": null,
   "metadata": {},
   "outputs": [],
   "source": [
    "本期稅前淨利_淨損 = {\"本期稅前淨利（淨損）\":\"繼續營業單位稅前淨利（淨損）\"}\n",
    "\n",
    "收益費損項目合計 = {\"收益費損項目合計\":\"折舊費用+攤銷費用+利息費用+預期信用減損損失（利益）數／呆帳費用提列（轉列收入）數+透過損益按公允價值衡量金融資產及負債之淨損失（利益）+利息費用+利息收入+股份基礎給付酬勞成本+採用權益法認列之關聯企業及合資損失（利益）之份額+處分及報廢不動產、廠房及設備損失（利益）+不動產、廠房及設備轉列費用數+處分投資性不動產損失（利益）+處分其他資產損失（利益）+處分採用權益法之投資損失（利益）+非金融資產減損損失+非金融資產減損迴轉利益+逾期未領董監酬勞轉列其他收入+其他項目\"}\n",
    "\n",
    "與營業活動相關之資產之淨變動合計 = {\"與營業活動相關之資產之淨變動合計\":\"強制透過損益按公允價值衡量之金融資產（增加）減少+應收票據（增加）減少+應收帳款（增加）減少+ 應收帳款－關係人（增加）減少+ 其他應收款（增加）減少 + 其他應收款－關係人（增加）減少 +存貨（增加）減少+ 預付費用（增加）減少 +預付款項（增加）減少+其他流動資產（增加）減少+ 其他營業資產（增加）減少\"}\n",
    "\n",
    "與營業活動相關之負債之淨變動合計 = {\"與營業活動相關之負債之淨變動合計\":\"合約負債增加（減少）+應付票據增加（減少）+應付帳款增加（減少）+應付帳款－關係人增加（減少）+其他應付款增加（減少）+其他應付款－關係人增加（減少）+其他流動負債增加（減少）+淨確定福利負債增加(減少)+ 其他營業負債增加（減少）\"}\n",
    "\n",
    "與營業活動相關之資產及負債之淨變動合計 = {\"與營業活動相關之資產及負債之淨變動合計\":\"與營業活動相關之資產之淨變動合計+與營業活動相關之負債之淨變動合計\"}\n",
    "\n",
    "調整項目合計 = {\"調整項目合計\":\"收益費損項目合計+與營業活動相關之資產及負債之淨變動合計\"}\n",
    "\n",
    "與營業活動相關之負債之淨變動合計 = {\"與營業活動相關之負債之淨變動合計\":\"合約負債增加（減少）+應付票據增加（減少）+應付帳款增加（減少）+其他應付款增加（減少）+其他流動負債增加（減少）+淨確定福利負債增加(減少)+其他營業負債增加（減少）\"}\n",
    "\n",
    "與營業活動相關之資產及負債之淨變動合計 = {\"與營業活動相關之資產及負債之淨變動合計\":\"與營業活動相關之資產之淨變動合計 +與營業活動相關之負債之淨變動合計\"}\n",
    "\n",
    "營運產生之現金流入_流出 = {\"營運產生之現金流入（流出）\":\"本期稅前淨利（淨損）+調整項目合計\"}\n",
    "\n",
    "營業活動之淨現金流入_流出 = {\"營業活動之淨現金流入（流出）\":\"營運產生之現金流入（流出）+收取之利息 +收取之股利  +支付之利息+退還（支付）之所得稅\"}\n",
    "\n",
    "投資活動之淨現金流入_流出 = {\"投資活動之淨現金流入（流出）\":\"處分透過其他綜合損益按公允價值衡量之金融資產 + 取得按攤銷後成本衡量之金融資產+ 取得採用權益法之投資 +處分按攤銷後成本衡量之金融資產+處分採用權益法之投資+預付投資款增加+處分子公司 +取得不動產、廠房及設備+處分不動產、廠房及設備+存出保證金增加+存出保證金減少 +取得無形資產+取得使用權資產+處分投資性不動產  +其他金融資產增加+其他非流動資產減少 +預付設備款增加+收取之利息+其他投資活動\"}\n",
    "\n",
    "籌資活動之淨現金流入_流出 = {\"籌資活動之淨現金流入（流出）\":\"短期借款增加+ 短期借款減少 +存入保證金增加+租賃本金償還+發放現金股利+ 應付短期票券增加+ 應付短期票券減少 + 舉借長期借款 +員工購買庫藏股+ 存入保證金增加 +存入保證金減少 +租賃本金償還 + 發放現金股利  +取得子公司股權+非控制權益變動\"}\n",
    "\n",
    "本期現金及約當現金增加_減少數 = {\"本期現金及約當現金增加（減少）數\":\"營業活動之淨現金流入（流出）+ 投資活動之淨現金流入（流出）+ 籌資活動之淨現金流入（流出）+匯率變動對現金及約當現金之影響\"}\n",
    "\n",
    "# 期末現金及約當現金餘額=期初現金及約當現金餘額=)=資產負債表帳列之現金及約當現金\n",
    "\n",
    "期末現金及約當現金餘額 = {\"期末現金及約當現金餘額\":\"本期現金及約當現金增加（減少）數+期初現金及約當現金餘額\"}\n"
   ]
  },
  {
   "cell_type": "code",
   "execution_count": null,
   "metadata": {},
   "outputs": [],
   "source": [
    "df"
   ]
  },
  {
   "cell_type": "code",
   "execution_count": null,
   "metadata": {},
   "outputs": [],
   "source": [
    "import re\n",
    "import pandas as pd\n",
    "Cash_Flow_Statement_all_function = [收益費損項目合計]\n",
    "# Cash_Flow_Statement_all_function = [本期稅前淨利_淨損,收益費損項目合計,與營業活動相關之資產之淨變動合計,與營業活動相關之負債之淨變動合計,與營業活動相關之資產及負債之淨變動合計,調整項目合計,與營業活動相關之負債之淨變動合計,與營業活動相關之資產及負債之淨變動合計,營運產生之現金流入_流出,營業活動之淨現金流入_流出,投資活動之淨現金流入_流出,籌資活動之淨現金流入_流出,本期現金及約當現金增加_減少數,期末現金及約當現金餘額]\n",
    "negative_ls = [\"營業費用合計\",\"財務成本淨額\",\"所得稅費用（利益）合計\",\"不重分類至損益之項目\",\"與不重分類之項目相關之所得稅\"]\n",
    "new_dict = {}\n",
    "kind_list = []\n",
    "money_list = []\n",
    "status_list = []\n",
    "for f in Cash_Flow_Statement_all_function:\n",
    "    for k ,v in f.items():\n",
    "        temp_sum = 0    \n",
    "        temp_ls = re.split(r\"-|\\+\",v)\n",
    "        for i in temp_ls:\n",
    "            filt = (df[\"會計項目Accounting Title\"].str.contains(i))\n",
    "            x = df.loc[filt]\n",
    "            if x.empty:\n",
    "                continue\n",
    "            else:\n",
    "                # try:\n",
    "                temp_num = x.iloc[0,[3]][0]\n",
    "                if \"(\" in str(temp_num):\n",
    "                    temp_num = temp_num.replace(\"(\",\"\")\n",
    "                    temp_num = temp_num.replace(\")\",\"\")\n",
    "                    temp_num = temp_num.replace(\",\",\"\")\n",
    "                    temp_num = -(int(temp_num))\n",
    "                    if i in negative_ls:\n",
    "                        temp_num = -(temp_num)\n",
    "                        temp_sum+=temp_num\n",
    "                    else:\n",
    "                        temp_sum+=temp_num\n",
    "                elif pd.isna(temp_num):\n",
    "                    continue\n",
    "                elif type(temp_num) == float:\n",
    "                    temp_sum += temp_num\n",
    "                elif i in negative_ls:\n",
    "                    temp_num = -(int(temp_num))\n",
    "                    temp_sum+=temp_num\n",
    "                elif \"成本\" in i:\n",
    "                    temp_num = -(int(temp_num))\n",
    "                    temp_sum+=temp_num\n",
    "                else:\n",
    "                    temp_num = int(temp_num)\n",
    "                    temp_sum += temp_num \n",
    "                print(i)\n",
    "                print(temp_num)\n",
    "                print(temp_sum)\n",
    "                print()\n",
    "        try:\n",
    "            k_filt = (df[\"會計項目Accounting Title\"].str.contains(k))\n",
    "            k_x = df.loc[k_filt]\n",
    "            k_num = k_x.iloc[0,[3]][0]\n",
    "            if \"(\" in k_num:\n",
    "                k_num = k_num.replace(\"(\",\"\")\n",
    "                k_num = k_num.replace(\")\",\"\")\n",
    "                k_num = k_num.replace(\",\",\"\")\n",
    "                k_num = -(int(k_num))\n",
    "            else:\n",
    "                k_num = int(k_num)\n",
    "\n",
    "            if k_num == temp_sum:\n",
    "                kind_list.append(k)\n",
    "                money_list.append(k_num)\n",
    "                status_list.append(\"True\")\n",
    "            else:\n",
    "                kind_list.append(k)\n",
    "                money_list.append(k_num)\n",
    "                status_list.append(\"False\")\n",
    "\n",
    "\n",
    "            new_dict[\"會科\"]=kind_list\n",
    "            new_dict[\"金額\"]=money_list\n",
    "            new_dict[\"符合\"]=status_list\n",
    "        except:\n",
    "            pass\n",
    "\n",
    "df = pd.DataFrame(new_dict)\n",
    "df"
   ]
  },
  {
   "cell_type": "code",
   "execution_count": 43,
   "metadata": {},
   "outputs": [
    {
     "ename": "IndexError",
     "evalue": "single positional indexer is out-of-bounds",
     "output_type": "error",
     "traceback": [
      "\u001b[1;31m---------------------------------------------------------------------------\u001b[0m",
      "\u001b[1;31mIndexError\u001b[0m                                Traceback (most recent call last)",
      "\u001b[1;32m<ipython-input-43-17fa7d08747e>\u001b[0m in \u001b[0;36m<module>\u001b[1;34m\u001b[0m\n\u001b[0;32m      2\u001b[0m \u001b[0mfilt\u001b[0m \u001b[1;33m=\u001b[0m \u001b[1;33m(\u001b[0m\u001b[0mdf\u001b[0m\u001b[1;33m[\u001b[0m\u001b[1;34m\"會計項目Accounting Title\"\u001b[0m\u001b[1;33m]\u001b[0m\u001b[1;33m.\u001b[0m\u001b[0mstr\u001b[0m\u001b[1;33m.\u001b[0m\u001b[0mcontains\u001b[0m\u001b[1;33m(\u001b[0m\u001b[0mi\u001b[0m\u001b[1;33m)\u001b[0m\u001b[1;33m)\u001b[0m\u001b[1;33m\u001b[0m\u001b[1;33m\u001b[0m\u001b[0m\n\u001b[0;32m      3\u001b[0m \u001b[0mx\u001b[0m \u001b[1;33m=\u001b[0m \u001b[0mdf\u001b[0m\u001b[1;33m.\u001b[0m\u001b[0mloc\u001b[0m\u001b[1;33m[\u001b[0m\u001b[0mfilt\u001b[0m\u001b[1;33m]\u001b[0m\u001b[1;33m\u001b[0m\u001b[1;33m\u001b[0m\u001b[0m\n\u001b[1;32m----> 4\u001b[1;33m \u001b[0mtemp_num\u001b[0m \u001b[1;33m=\u001b[0m \u001b[0mx\u001b[0m\u001b[1;33m.\u001b[0m\u001b[0miloc\u001b[0m\u001b[1;33m[\u001b[0m\u001b[1;36m0\u001b[0m\u001b[1;33m,\u001b[0m\u001b[1;33m[\u001b[0m\u001b[1;36m3\u001b[0m\u001b[1;33m]\u001b[0m\u001b[1;33m]\u001b[0m\u001b[1;33m[\u001b[0m\u001b[1;36m0\u001b[0m\u001b[1;33m]\u001b[0m\u001b[1;33m\u001b[0m\u001b[1;33m\u001b[0m\u001b[0m\n\u001b[0m\u001b[0;32m      5\u001b[0m \u001b[0mprint\u001b[0m\u001b[1;33m(\u001b[0m\u001b[0mtemp_num\u001b[0m\u001b[1;33m)\u001b[0m\u001b[1;33m\u001b[0m\u001b[1;33m\u001b[0m\u001b[0m\n",
      "\u001b[1;32mc:\\Users\\User\\AppData\\Local\\Programs\\Python\\Python39\\lib\\site-packages\\pandas\\core\\indexing.py\u001b[0m in \u001b[0;36m__getitem__\u001b[1;34m(self, key)\u001b[0m\n\u001b[0;32m    887\u001b[0m                     \u001b[1;31m# AttributeError for IntervalTree get_value\u001b[0m\u001b[1;33m\u001b[0m\u001b[1;33m\u001b[0m\u001b[1;33m\u001b[0m\u001b[0m\n\u001b[0;32m    888\u001b[0m                     \u001b[1;32mreturn\u001b[0m \u001b[0mself\u001b[0m\u001b[1;33m.\u001b[0m\u001b[0mobj\u001b[0m\u001b[1;33m.\u001b[0m\u001b[0m_get_value\u001b[0m\u001b[1;33m(\u001b[0m\u001b[1;33m*\u001b[0m\u001b[0mkey\u001b[0m\u001b[1;33m,\u001b[0m \u001b[0mtakeable\u001b[0m\u001b[1;33m=\u001b[0m\u001b[0mself\u001b[0m\u001b[1;33m.\u001b[0m\u001b[0m_takeable\u001b[0m\u001b[1;33m)\u001b[0m\u001b[1;33m\u001b[0m\u001b[1;33m\u001b[0m\u001b[0m\n\u001b[1;32m--> 889\u001b[1;33m             \u001b[1;32mreturn\u001b[0m \u001b[0mself\u001b[0m\u001b[1;33m.\u001b[0m\u001b[0m_getitem_tuple\u001b[0m\u001b[1;33m(\u001b[0m\u001b[0mkey\u001b[0m\u001b[1;33m)\u001b[0m\u001b[1;33m\u001b[0m\u001b[1;33m\u001b[0m\u001b[0m\n\u001b[0m\u001b[0;32m    890\u001b[0m         \u001b[1;32melse\u001b[0m\u001b[1;33m:\u001b[0m\u001b[1;33m\u001b[0m\u001b[1;33m\u001b[0m\u001b[0m\n\u001b[0;32m    891\u001b[0m             \u001b[1;31m# we by definition only have the 0th axis\u001b[0m\u001b[1;33m\u001b[0m\u001b[1;33m\u001b[0m\u001b[1;33m\u001b[0m\u001b[0m\n",
      "\u001b[1;32mc:\\Users\\User\\AppData\\Local\\Programs\\Python\\Python39\\lib\\site-packages\\pandas\\core\\indexing.py\u001b[0m in \u001b[0;36m_getitem_tuple\u001b[1;34m(self, tup)\u001b[0m\n\u001b[0;32m   1448\u001b[0m     \u001b[1;32mdef\u001b[0m \u001b[0m_getitem_tuple\u001b[0m\u001b[1;33m(\u001b[0m\u001b[0mself\u001b[0m\u001b[1;33m,\u001b[0m \u001b[0mtup\u001b[0m\u001b[1;33m:\u001b[0m \u001b[0mTuple\u001b[0m\u001b[1;33m)\u001b[0m\u001b[1;33m:\u001b[0m\u001b[1;33m\u001b[0m\u001b[1;33m\u001b[0m\u001b[0m\n\u001b[0;32m   1449\u001b[0m \u001b[1;33m\u001b[0m\u001b[0m\n\u001b[1;32m-> 1450\u001b[1;33m         \u001b[0mself\u001b[0m\u001b[1;33m.\u001b[0m\u001b[0m_has_valid_tuple\u001b[0m\u001b[1;33m(\u001b[0m\u001b[0mtup\u001b[0m\u001b[1;33m)\u001b[0m\u001b[1;33m\u001b[0m\u001b[1;33m\u001b[0m\u001b[0m\n\u001b[0m\u001b[0;32m   1451\u001b[0m         \u001b[1;32mwith\u001b[0m \u001b[0msuppress\u001b[0m\u001b[1;33m(\u001b[0m\u001b[0mIndexingError\u001b[0m\u001b[1;33m)\u001b[0m\u001b[1;33m:\u001b[0m\u001b[1;33m\u001b[0m\u001b[1;33m\u001b[0m\u001b[0m\n\u001b[0;32m   1452\u001b[0m             \u001b[1;32mreturn\u001b[0m \u001b[0mself\u001b[0m\u001b[1;33m.\u001b[0m\u001b[0m_getitem_lowerdim\u001b[0m\u001b[1;33m(\u001b[0m\u001b[0mtup\u001b[0m\u001b[1;33m)\u001b[0m\u001b[1;33m\u001b[0m\u001b[1;33m\u001b[0m\u001b[0m\n",
      "\u001b[1;32mc:\\Users\\User\\AppData\\Local\\Programs\\Python\\Python39\\lib\\site-packages\\pandas\\core\\indexing.py\u001b[0m in \u001b[0;36m_has_valid_tuple\u001b[1;34m(self, key)\u001b[0m\n\u001b[0;32m    721\u001b[0m         \u001b[1;32mfor\u001b[0m \u001b[0mi\u001b[0m\u001b[1;33m,\u001b[0m \u001b[0mk\u001b[0m \u001b[1;32min\u001b[0m \u001b[0menumerate\u001b[0m\u001b[1;33m(\u001b[0m\u001b[0mkey\u001b[0m\u001b[1;33m)\u001b[0m\u001b[1;33m:\u001b[0m\u001b[1;33m\u001b[0m\u001b[1;33m\u001b[0m\u001b[0m\n\u001b[0;32m    722\u001b[0m             \u001b[1;32mtry\u001b[0m\u001b[1;33m:\u001b[0m\u001b[1;33m\u001b[0m\u001b[1;33m\u001b[0m\u001b[0m\n\u001b[1;32m--> 723\u001b[1;33m                 \u001b[0mself\u001b[0m\u001b[1;33m.\u001b[0m\u001b[0m_validate_key\u001b[0m\u001b[1;33m(\u001b[0m\u001b[0mk\u001b[0m\u001b[1;33m,\u001b[0m \u001b[0mi\u001b[0m\u001b[1;33m)\u001b[0m\u001b[1;33m\u001b[0m\u001b[1;33m\u001b[0m\u001b[0m\n\u001b[0m\u001b[0;32m    724\u001b[0m             \u001b[1;32mexcept\u001b[0m \u001b[0mValueError\u001b[0m \u001b[1;32mas\u001b[0m \u001b[0merr\u001b[0m\u001b[1;33m:\u001b[0m\u001b[1;33m\u001b[0m\u001b[1;33m\u001b[0m\u001b[0m\n\u001b[0;32m    725\u001b[0m                 raise ValueError(\n",
      "\u001b[1;32mc:\\Users\\User\\AppData\\Local\\Programs\\Python\\Python39\\lib\\site-packages\\pandas\\core\\indexing.py\u001b[0m in \u001b[0;36m_validate_key\u001b[1;34m(self, key, axis)\u001b[0m\n\u001b[0;32m   1356\u001b[0m             \u001b[1;32mreturn\u001b[0m\u001b[1;33m\u001b[0m\u001b[1;33m\u001b[0m\u001b[0m\n\u001b[0;32m   1357\u001b[0m         \u001b[1;32melif\u001b[0m \u001b[0mis_integer\u001b[0m\u001b[1;33m(\u001b[0m\u001b[0mkey\u001b[0m\u001b[1;33m)\u001b[0m\u001b[1;33m:\u001b[0m\u001b[1;33m\u001b[0m\u001b[1;33m\u001b[0m\u001b[0m\n\u001b[1;32m-> 1358\u001b[1;33m             \u001b[0mself\u001b[0m\u001b[1;33m.\u001b[0m\u001b[0m_validate_integer\u001b[0m\u001b[1;33m(\u001b[0m\u001b[0mkey\u001b[0m\u001b[1;33m,\u001b[0m \u001b[0maxis\u001b[0m\u001b[1;33m)\u001b[0m\u001b[1;33m\u001b[0m\u001b[1;33m\u001b[0m\u001b[0m\n\u001b[0m\u001b[0;32m   1359\u001b[0m         \u001b[1;32melif\u001b[0m \u001b[0misinstance\u001b[0m\u001b[1;33m(\u001b[0m\u001b[0mkey\u001b[0m\u001b[1;33m,\u001b[0m \u001b[0mtuple\u001b[0m\u001b[1;33m)\u001b[0m\u001b[1;33m:\u001b[0m\u001b[1;33m\u001b[0m\u001b[1;33m\u001b[0m\u001b[0m\n\u001b[0;32m   1360\u001b[0m             \u001b[1;31m# a tuple should already have been caught by this point\u001b[0m\u001b[1;33m\u001b[0m\u001b[1;33m\u001b[0m\u001b[1;33m\u001b[0m\u001b[0m\n",
      "\u001b[1;32mc:\\Users\\User\\AppData\\Local\\Programs\\Python\\Python39\\lib\\site-packages\\pandas\\core\\indexing.py\u001b[0m in \u001b[0;36m_validate_integer\u001b[1;34m(self, key, axis)\u001b[0m\n\u001b[0;32m   1442\u001b[0m         \u001b[0mlen_axis\u001b[0m \u001b[1;33m=\u001b[0m \u001b[0mlen\u001b[0m\u001b[1;33m(\u001b[0m\u001b[0mself\u001b[0m\u001b[1;33m.\u001b[0m\u001b[0mobj\u001b[0m\u001b[1;33m.\u001b[0m\u001b[0m_get_axis\u001b[0m\u001b[1;33m(\u001b[0m\u001b[0maxis\u001b[0m\u001b[1;33m)\u001b[0m\u001b[1;33m)\u001b[0m\u001b[1;33m\u001b[0m\u001b[1;33m\u001b[0m\u001b[0m\n\u001b[0;32m   1443\u001b[0m         \u001b[1;32mif\u001b[0m \u001b[0mkey\u001b[0m \u001b[1;33m>=\u001b[0m \u001b[0mlen_axis\u001b[0m \u001b[1;32mor\u001b[0m \u001b[0mkey\u001b[0m \u001b[1;33m<\u001b[0m \u001b[1;33m-\u001b[0m\u001b[0mlen_axis\u001b[0m\u001b[1;33m:\u001b[0m\u001b[1;33m\u001b[0m\u001b[1;33m\u001b[0m\u001b[0m\n\u001b[1;32m-> 1444\u001b[1;33m             \u001b[1;32mraise\u001b[0m \u001b[0mIndexError\u001b[0m\u001b[1;33m(\u001b[0m\u001b[1;34m\"single positional indexer is out-of-bounds\"\u001b[0m\u001b[1;33m)\u001b[0m\u001b[1;33m\u001b[0m\u001b[1;33m\u001b[0m\u001b[0m\n\u001b[0m\u001b[0;32m   1445\u001b[0m \u001b[1;33m\u001b[0m\u001b[0m\n\u001b[0;32m   1446\u001b[0m     \u001b[1;31m# -------------------------------------------------------------------\u001b[0m\u001b[1;33m\u001b[0m\u001b[1;33m\u001b[0m\u001b[1;33m\u001b[0m\u001b[0m\n",
      "\u001b[1;31mIndexError\u001b[0m: single positional indexer is out-of-bounds"
     ]
    }
   ],
   "source": [
    "i = \"不重分類至損益之項目\"\n",
    "filt = (df[\"會計項目Accounting Title\"].str.contains(i))\n",
    "asdf = []\n",
    "x = df.loc[filt]\n",
    "temp_num = x.iloc[0,[3]][0]\n",
    "print(temp_num)"
   ]
  },
  {
   "cell_type": "code",
   "execution_count": 44,
   "metadata": {},
   "outputs": [
    {
     "name": "stdout",
     "output_type": "stream",
     "text": [
      "折舊費用\n",
      "715599\n",
      "攤銷費用\n",
      "12059\n",
      "利息費用\n",
      "100659\n",
      "透過損益按公允價值衡量金融資產及負債之淨損失（利益）\n",
      "(54,865)\n",
      "利息費用\n",
      "100659\n",
      "利息收入\n",
      "(39,389)\n",
      "採用權益法認列之關聯企業及合資損失（利益）之份額\n",
      "(11,375)\n",
      "處分及報廢不動產、廠房及設備損失（利益）\n",
      "(10,435)\n",
      "不動產、廠房及設備轉列費用數\n",
      "22999\n",
      "處分投資性不動產損失（利益）\n",
      "(197,283)\n",
      "處分採用權益法之投資損失（利益）\n",
      "15\n",
      "其他項目\n",
      "(9,664)\n"
     ]
    }
   ],
   "source": [
    "asd = \"折舊費用+攤銷費用+利息費用+預期信用減損損失（利益）數／呆帳費用提列（轉列收入）數+透過損益按公允價值衡量金融資產及負債之淨損失（利益）+利息費用+利息收入+股份基礎給付酬勞成本+採用權益法認列之關聯企業及合資損失（利益）之份額+處分及報廢不動產、廠房及設備損失（利益）+不動產、廠房及設備轉列費用數+處分投資性不動產損失（利益）+處分其他資產損失（利益）+處分採用權益法之投資損失（利益）+非金融資產減損損失+非金融資產減損迴轉利益+逾期未領董監酬勞轉列其他收入+其他項目\"\n",
    "ad = re.split(r\"-|\\+\",asd)\n",
    "asdf = []\n",
    "len(ad)\n",
    "for i in ad:\n",
    "    try:\n",
    "        filt = (df[\"會計項目Accounting Title\"].str.contains(i))\n",
    "        x = df.loc[filt]\n",
    "        temp_num = x.iloc[0,[3]][0]\n",
    "        print(i)\n",
    "        print(temp_num)\n",
    "    except:\n",
    "        asdf.append(i)"
   ]
  },
  {
   "cell_type": "code",
   "execution_count": 45,
   "metadata": {},
   "outputs": [
    {
     "data": {
      "text/plain": [
       "['預期信用減損損失（利益）數／呆帳費用提列（轉列收入）數',\n",
       " '股份基礎給付酬勞成本',\n",
       " '處分其他資產損失（利益）',\n",
       " '非金融資產減損損失',\n",
       " '非金融資產減損迴轉利益',\n",
       " '逾期未領董監酬勞轉列其他收入']"
      ]
     },
     "execution_count": 45,
     "metadata": {},
     "output_type": "execute_result"
    }
   ],
   "source": [
    "asdf"
   ]
  }
 ],
 "metadata": {
  "interpreter": {
   "hash": "cf92aa13fedf815d5c8dd192b8d835913fde3e8bc926b2a0ad6cc74ef2ba3ca2"
  },
  "kernelspec": {
   "display_name": "Python 3.9.5 64-bit",
   "language": "python",
   "name": "python3"
  },
  "language_info": {
   "codemirror_mode": {
    "name": "ipython",
    "version": 3
   },
   "file_extension": ".py",
   "mimetype": "text/x-python",
   "name": "python",
   "nbconvert_exporter": "python",
   "pygments_lexer": "ipython3",
   "version": "3.9.5"
  },
  "orig_nbformat": 4
 },
 "nbformat": 4,
 "nbformat_minor": 2
}
