{
 "cells": [
  {
   "cell_type": "code",
   "execution_count": null,
   "metadata": {},
   "outputs": [],
   "source": []
  },
  {
   "cell_type": "code",
   "execution_count": 2,
   "metadata": {},
   "outputs": [],
   "source": [
    "import MySQLdb\n",
    "import pandas as pd\n",
    "conn = MySQLdb.Connect(host = 'localhost',\n",
    "                       port = 3307,\n",
    "                       user = 'root',\n",
    "                       db = 'kpmg',\n",
    "                       charset='utf8')\n",
    "cur = conn.cursor()\n",
    "\n",
    "# company_id_input = input(\"輸入公司id : \")\n",
    "# kind_input = input(\"輸入kind : \")\n",
    "# year_input = input(\"輸入year : \")\n",
    "# season_input = input(\"輸入season : \")\n",
    "\n",
    "company_id_input = 2707\n",
    "kind_input = \"Balance_Sheet\"\n",
    "year_input = 2019\n",
    "season_input = 4\n",
    "流動資產合計 = \"現金及約當現金+透過損益按公允價值衡量之金融資產－流動+按攤銷後成本衡量之金融資產－流動+應收票據淨額+應收帳款淨額+應收帳款－關係人淨額+其他應收款+其他應收款－關係人+本期所得稅資產+存貨+預付款項+其他流動資產+其他金融資產－流動+其他流動資產－其他\"\n",
    "cur.execute(f\"SELECT `path` FROM `financial_statements` WHERE `company_id` = {company_id_input} AND `kind` = '{kind_input}' AND `year` = {year_input} AND `season` = {season_input} \")\n",
    "result_set = cur.fetchall()\n",
    "\n",
    "df = pd.read_csv(f\"../../{result_set[0][0]}\")\n",
    "# filt = (df[\"會計項目Accounting Title\"].str.contains(\"折舊費用\"))\n",
    "# x = df.loc[filt]"
   ]
  },
  {
   "cell_type": "code",
   "execution_count": 3,
   "metadata": {},
   "outputs": [
    {
     "name": "stdout",
     "output_type": "stream",
     "text": [
      "現金及約當現金\n",
      "1208477\n",
      "透過損益按公允價值衡量之金融資產－流動\n",
      "772676\n",
      "按攤銷後成本衡量之金融資產－流動\n",
      "460154\n",
      "應收票據淨額\n",
      "11911\n",
      "應收帳款淨額\n",
      "193840\n",
      "應收帳款－關係人淨額\n",
      "其他應收款\n",
      "24232\n",
      "其他應收款－關係人\n",
      "本期所得稅資產\n",
      "存貨\n",
      "63621\n",
      "預付款項\n",
      "52325\n",
      "其他流動資產\n",
      "65\n",
      "其他金融資產－流動\n",
      "其他流動資產－其他\n"
     ]
    }
   ],
   "source": [
    "流動資產合計 = \"現金及約當現金+透過損益按公允價值衡量之金融資產－流動+按攤銷後成本衡量之金融資產－流動+應收票據淨額+應收帳款淨額+應收帳款－關係人淨額+其他應收款+其他應收款－關係人+本期所得稅資產+存貨+預付款項+其他流動資產+其他金融資產－流動+其他流動資產－其他\"\n",
    "\n",
    "temp_ls = 流動資產合計.split(\"+\")\n",
    "for i in temp_ls:\n",
    "    filt = (df[\"會計項目Accounting Title\"].str.contains(i))\n",
    "    x = df.loc[filt]\n",
    "    print(i)\n",
    "    try:\n",
    "        print(x.iloc[0,[3]][0])\n",
    "    except:\n",
    "        pass"
   ]
  }
 ],
 "metadata": {
  "interpreter": {
   "hash": "cf92aa13fedf815d5c8dd192b8d835913fde3e8bc926b2a0ad6cc74ef2ba3ca2"
  },
  "kernelspec": {
   "display_name": "Python 3.9.5 64-bit",
   "language": "python",
   "name": "python3"
  },
  "language_info": {
   "codemirror_mode": {
    "name": "ipython",
    "version": 3
   },
   "file_extension": ".py",
   "mimetype": "text/x-python",
   "name": "python",
   "nbconvert_exporter": "python",
   "pygments_lexer": "ipython3",
   "version": "3.9.5"
  },
  "orig_nbformat": 4
 },
 "nbformat": 4,
 "nbformat_minor": 2
}
