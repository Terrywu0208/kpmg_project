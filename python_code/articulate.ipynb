{
 "cells": [
  {
   "cell_type": "code",
   "execution_count": 57,
   "metadata": {},
   "outputs": [],
   "source": [
    "import MySQLdb\n",
    "import pandas as pd\n",
    "conn = MySQLdb.Connect(host = 'localhost',\n",
    "                       port = 3307,\n",
    "                       user = 'root',\n",
    "                       db = 'kpmg',\n",
    "                       charset='utf8')\n",
    "cur = conn.cursor()\n",
    "\n",
    "# company_id_input = input(\"輸入公司id : \")\n",
    "# kind_input = input(\"輸入kind : \")\n",
    "# year_input = input(\"輸入year : \")\n",
    "# season_input = input(\"輸入season : \")\n",
    "\n",
    "company_id_input = 2707\n",
    "kind_input = \"Balance_Sheet\"\n",
    "year_input = 2019\n",
    "season_input = 4\n",
    "流動資產合計 = \"現金及約當現金+透過損益按公允價值衡量之金融資產－流動+按攤銷後成本衡量之金融資產－流動+應收票據淨額+應收帳款淨額+應收帳款－關係人淨額+其他應收款+其他應收款－關係人+本期所得稅資產+存貨+預付款項+其他流動資產+其他金融資產－流動+其他流動資產－其他\"\n",
    "cur.execute(f\"SELECT `path` FROM `financial_statements` WHERE `company_id` = {company_id_input} AND `kind` = '{kind_input}' AND `year` = {year_input} AND `season` = {season_input} \")\n",
    "result_set = cur.fetchall()\n",
    "\n",
    "df = pd.read_csv(f\"../../{result_set[0][0]}\")\n"
   ]
  },
  {
   "cell_type": "code",
   "execution_count": 58,
   "metadata": {},
   "outputs": [
    {
     "data": {
      "text/html": [
       "<div>\n",
       "<style scoped>\n",
       "    .dataframe tbody tr th:only-of-type {\n",
       "        vertical-align: middle;\n",
       "    }\n",
       "\n",
       "    .dataframe tbody tr th {\n",
       "        vertical-align: top;\n",
       "    }\n",
       "\n",
       "    .dataframe thead th {\n",
       "        text-align: right;\n",
       "    }\n",
       "</style>\n",
       "<table border=\"1\" class=\"dataframe\">\n",
       "  <thead>\n",
       "    <tr style=\"text-align: right;\">\n",
       "      <th></th>\n",
       "      <th>會科</th>\n",
       "      <th>金額</th>\n",
       "      <th>符合</th>\n",
       "    </tr>\n",
       "  </thead>\n",
       "  <tbody>\n",
       "    <tr>\n",
       "      <th>0</th>\n",
       "      <td>流動資產合計</td>\n",
       "      <td>2787301</td>\n",
       "      <td>True</td>\n",
       "    </tr>\n",
       "  </tbody>\n",
       "</table>\n",
       "</div>"
      ],
      "text/plain": [
       "       會科       金額    符合\n",
       "0  流動資產合計  2787301  True"
      ]
     },
     "execution_count": 58,
     "metadata": {},
     "output_type": "execute_result"
    }
   ],
   "source": [
    "流動資產合計 = {\"流動資產合計\":\"現金及約當現金+透過損益按公允價值衡量之金融資產－流動+按攤銷後成本衡量之金融資產－流動+應收票據淨額+應收帳款淨額+應收帳款－關係人淨額+其他應收款+其他應收款－關係人+本期所得稅資產+存貨+預付款項+其他流動資產+其他金融資產－流動+其他流動資產－其他\"}\n",
    "all_function = [流動資產合計]\n",
    "new_dict = {}\n",
    "kind_list = []\n",
    "money_list = []\n",
    "status_list = []\n",
    "for f in all_function:\n",
    "    for k ,v in f.items():\n",
    "        temp_sum = 0\n",
    "        temp_ls = v.split(\"+\")\n",
    "        for i in temp_ls:\n",
    "            filt = (df[\"會計項目Accounting Title\"].str.contains(i))\n",
    "            x = df.loc[filt]\n",
    "            # print(i)\n",
    "            try:\n",
    "                temp_num = x.iloc[0,[3]][0]\n",
    "                # print(temp_num)\n",
    "                if \"(\" in temp_num:\n",
    "                    temp_num = temp_num.replace(\"()\",\"\")\n",
    "                    temp_num = -(int(temp_num))\n",
    "                    temp_sum+=temp_num\n",
    "                    pass\n",
    "                else:\n",
    "                    temp_num = int(temp_num)\n",
    "                    temp_sum += temp_num \n",
    "            except:\n",
    "                pass\n",
    "\n",
    "        k_filt = (df[\"會計項目Accounting Title\"].str.contains(k))\n",
    "        k_x = df.loc[k_filt]\n",
    "        k_num = k_x.iloc[0,[3]][0]\n",
    "        if \"(\" in k_num:\n",
    "            k_num = temp_num.replace(\"()\",\"\")\n",
    "            k_num = -(int(k_num))\n",
    "            pass\n",
    "        else:\n",
    "            k_num = int(k_num)\n",
    "\n",
    "        if k_num == temp_sum:\n",
    "            kind_list.append(k)\n",
    "            money_list.append(k_num)\n",
    "            status_list.append(\"True\")\n",
    "        else:\n",
    "            kind_list.append(k)\n",
    "            money_list.append(k_num)\n",
    "            status_list.append(\"False\")\n",
    "\n",
    "        new_dict[\"會科\"]=kind_list\n",
    "        new_dict[\"金額\"]=money_list\n",
    "        new_dict[\"符合\"]=status_list\n",
    "\n",
    "df = pd.DataFrame(new_dict)\n",
    "df\n"
   ]
  }
 ],
 "metadata": {
  "interpreter": {
   "hash": "cf92aa13fedf815d5c8dd192b8d835913fde3e8bc926b2a0ad6cc74ef2ba3ca2"
  },
  "kernelspec": {
   "display_name": "Python 3.9.5 64-bit",
   "language": "python",
   "name": "python3"
  },
  "language_info": {
   "codemirror_mode": {
    "name": "ipython",
    "version": 3
   },
   "file_extension": ".py",
   "mimetype": "text/x-python",
   "name": "python",
   "nbconvert_exporter": "python",
   "pygments_lexer": "ipython3",
   "version": "3.9.5"
  },
  "orig_nbformat": 4
 },
 "nbformat": 4,
 "nbformat_minor": 2
}
