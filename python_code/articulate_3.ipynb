{
 "cells": [
  {
   "cell_type": "code",
   "execution_count": null,
   "metadata": {},
   "outputs": [],
   "source": [
    "# 資料庫串接\n",
    "import MySQLdb\n",
    "import pandas as pd\n",
    "conn = MySQLdb.Connect(host = 'localhost',\n",
    "                    port = 3306,\n",
    "                    user = 'root',\n",
    "                    password = 'Terry970135',\n",
    "                    db = 'kpmg',\n",
    "                    charset='utf8')\n",
    "# 輸入你的資料庫連線資訊\n",
    "cur = conn.cursor()\n",
    "company_id_input = 2707\n",
    "# kind_input = \"Balance_Sheet\" #你要查的表\n",
    "# kind_input = \"Profit_and_Loss_Account\" #你要查的表\n",
    "# kind_input = \"Cash_Flow_Statement\" #你要查的表\n",
    "kind_input = \"Statement_of_changes_in_equity\" #你要查的表\n",
    "\n",
    "\n",
    "year_input = 2019\n",
    "season_input = 4\n",
    "cur.execute(f\"SELECT `path` FROM `financial_statements` WHERE `company_id` = {company_id_input} AND `kind` = '{kind_input}' AND `year` = {year_input} AND `season` = {season_input} \")\n",
    "result_set = cur.fetchall()\n",
    "# result_set\n",
    "df = pd.read_csv(f\"../../{result_set[0][0]}\")"
   ]
  },
  {
   "cell_type": "code",
   "execution_count": null,
   "metadata": {},
   "outputs": [],
   "source": [
    "其他權益項目合計 = {\"其他權益項目合計\":\"透過其他綜合損益按公允價值衡量之金融資產未實現評價(損)益\"} \n",
    "\n",
    "# 橫的\n",
    "普通股股本 = {\"普通股股本\":\"股本合計\"}\n",
    "\n",
    "保留盈餘合計 = {\"保留盈餘合計\":\"法定盈餘公積+特別盈餘公積+未分配盈餘（或待彌補虧損）\"}\n",
    "\n",
    "歸屬於母公司業主之權益總計={\"歸屬於母公司業主之權益總計\":\"股本合計+資本公積+保留盈餘合計+其他權益項目合計\"}\n",
    "\n",
    "權益總額 = {\"權益總額\":\"歸屬於母公司業主之權益總計+非控制權益\"}\n",
    "# 橫的\n",
    "\n",
    "本期綜合損益總額_1 = {\"本期綜合損益總額 \":\"本期淨利+本期其他綜合損益\"}\n",
    "\n",
    "期末餘額 = {\"期末餘額 \":\"期初餘額+權益增加\"}\n",
    "\n",
    "權益增加_減少_總額 = {\"權益增加(減少)總額\":\"提列特別盈餘公積+普通股現金股利+本期淨利+本期其他綜合損益+非控制權益增減\"}"
   ]
  },
  {
   "cell_type": "code",
   "execution_count": null,
   "metadata": {},
   "outputs": [],
   "source": [
    "import pandas as pd\n",
    "import os\n",
    "import re\n",
    "import numpy as np\n",
    "def clean_df(df):\n",
    "    df = df.dropna(axis=1)\n",
    "    df_cl_ls = list(df.columns)\n",
    "    for i in range(3,len(df_cl_ls)):\n",
    "        s = re.sub('[0-9A-Za-z]',\"\",df_cl_ls[i])\n",
    "        s = s.replace(\" \",\"\")\n",
    "        s = s.replace(\"(\",\"\")\n",
    "        s = s.replace(\")\",\"\")\n",
    "        s = s.replace(\"-\",\"\")\n",
    "        df_cl_ls[i]=s\n",
    "    df.columns = df_cl_ls  \n",
    "    return df\n",
    "\n",
    "def vertival_search_result(search_target):\n",
    "    filt = (new_df[\"會計項目\"].str.contains(search_target))\n",
    "    x = new_df.loc[filt]\n",
    "    num_ls = np.array(x.iloc[0])[3:]\n",
    "    for i in range(len(num_ls)):\n",
    "        if type(num_ls[i]) != int:\n",
    "            try:\n",
    "                if \"(\" in num_ls[i]:\n",
    "                    num_ls[i] = num_ls[i].replace(\"(\",\"\")\n",
    "                    num_ls[i] = num_ls[i].replace(\")\",\"\")\n",
    "                    num_ls[i] = num_ls[i].replace(\",\",\"\")\n",
    "                    num_ls[i] = -(int(num_ls[i]))\n",
    "            except:\n",
    "                pass\n",
    "            num_ls[i]=int(num_ls[i])\n",
    "    return num_ls\n",
    "\n",
    "def calculate(new_df):\n",
    "    new_dict = {}\n",
    "    kind_list = []\n",
    "    money_list = []\n",
    "    status_list = []\n",
    "    horizontal_function = [保留盈餘合計,歸屬於母公司業主之權益總計,權益總額,普通股股本]\n",
    "    # vertical_function = [普通股股本]\n",
    "    vertical_function = [本期綜合損益總額_1,期末餘額,權益增加_減少_總額]\n",
    "    # horizontal_function = [權益總額]\n",
    "    h_ls = [\"期初餘額\",\"期末餘額\"]\n",
    "    new_df_cl = list(new_df.columns)\n",
    "    for i in horizontal_function:\n",
    "        for h_col in h_ls:\n",
    "            temp_ls = []\n",
    "            filt = (new_df[\"會計項目\"].str.contains(h_col))\n",
    "            x = new_df.loc[filt]\n",
    "            for k, v in i.items():\n",
    "                v_ls = re.split(r\"-|\\+\",v)\n",
    "                for kind in v_ls:\n",
    "                    try:\n",
    "                        num = new_df_cl.index(kind)\n",
    "                        temp_num = x.iloc[0,[num]][0]\n",
    "                        if \"(\" in str(temp_num):\n",
    "                            temp_num = temp_num.replace(\"(\",\"\")\n",
    "                            temp_num = temp_num.replace(\")\",\"\")\n",
    "                            temp_num = temp_num.replace(\",\",\"\")\n",
    "                            temp_num = -(int(temp_num))\n",
    "                        temp_num = int(temp_num)\n",
    "                        temp_ls.append(temp_num)\n",
    "                    except:\n",
    "                        pass\n",
    "            temp_sum = sum(temp_ls)\n",
    "            target = new_df_cl.index(k)\n",
    "            target_sum = x.iloc[0,[target]][0]\n",
    "            if \"(\" in str(target_sum):\n",
    "                target_sum = target_sum.replace(\"(\",\"\")\n",
    "                target_sum = target_sum.replace(\")\",\"\")\n",
    "                target_sum = target_sum.replace(\",\",\"\")\n",
    "                target_sum = -(int(target_sum))\n",
    "            else:\n",
    "                target_sum = int(target_sum)\n",
    "            kind_list.append(h_col+\"_\"+k)\n",
    "            money_list.append(target_sum)\n",
    "            if temp_sum == target_sum:\n",
    "                status_list.append(True)\n",
    "            else:\n",
    "                status_list.append(False)\n",
    "    for v_d in vertical_function:\n",
    "        vertical_temp_sum = []\n",
    "        for k, v in v_d.items():\n",
    "            f_ls = v.split(\"+\")\n",
    "            for each_k in f_ls:\n",
    "                try:\n",
    "                    result_num_ls = vertival_search_result(each_k)\n",
    "                    vertical_temp_sum.append(result_num_ls)\n",
    "                except:\n",
    "                    pass\n",
    "        vertical_result_sum = sum(vertical_temp_sum)\n",
    "        print(vertical_result_sum)\n",
    "        try:\n",
    "            target_result_sum = vertival_search_result(k)\n",
    "            if target_result_sum.all() == vertical_result_sum.all():\n",
    "                status_list.append(True)\n",
    "            else:\n",
    "                status_list.append(False)\n",
    "            kind_list.append(k)\n",
    "            money_list.append(target_result_sum)\n",
    "        except:\n",
    "            pass\n",
    "\n",
    "    new_dict[\"會科\"]=kind_list\n",
    "    new_dict[\"金額\"]=money_list\n",
    "    new_dict[\"符合\"]=status_list\n",
    "    result_df = pd.DataFrame(new_dict)\n",
    "    return result_df\n",
    "\n",
    "# company_id_input = [2707,2727,2739]\n",
    "# season_input = 4\n",
    "# for each_co_id in company_id_input:\n",
    "#     try:\n",
    "#         os.mkdir(f\"statement_result/{each_co_id}\")\n",
    "#     except:\n",
    "#         pass\n",
    "#     for year_input in range(2019,2022):\n",
    "#         df = connect_db(each_co_id,year_input,4)\n",
    "new_df = clean_df(df)\n",
    "result = calculate(new_df)\n",
    "result.to_csv(f\"zxc.csv\",encoding=\"utf-8-sig\")"
   ]
  },
  {
   "cell_type": "code",
   "execution_count": null,
   "metadata": {},
   "outputs": [],
   "source": [
    "filt = (new_df[\"會計項目\"].str.contains(\"本期綜合損益總額\"))\n",
    "x = new_df.loc[filt]\n",
    "num_ls = np.array(x.iloc[0])[3:]\n",
    "for i in range(len(num_ls)):\n",
    "    if type(num_ls[i]) != int:\n",
    "        try:\n",
    "            if \"(\" in num_ls[i]:\n",
    "                num_ls[i] = num_ls[i].replace(\"(\",\"\")\n",
    "                num_ls[i] = num_ls[i].replace(\")\",\"\")\n",
    "                num_ls[i] = num_ls[i].replace(\",\",\"\")\n",
    "                num_ls[i] = -(int(num_ls[i]))\n",
    "        except:\n",
    "            pass\n",
    "        num_ls[i]=int(num_ls[i])\n",
    "num_ls"
   ]
  },
  {
   "cell_type": "code",
   "execution_count": null,
   "metadata": {},
   "outputs": [],
   "source": [
    "c = vertival_search_result(\"本期綜合損益總額\")\n",
    "c"
   ]
  },
  {
   "cell_type": "code",
   "execution_count": null,
   "metadata": {},
   "outputs": [],
   "source": [
    "import numpy as np\n",
    "s = np.array([1,2])+np.array([3,4])"
   ]
  },
  {
   "cell_type": "code",
   "execution_count": null,
   "metadata": {},
   "outputs": [],
   "source": [
    "new_df_cl = list(new_df.columns)\n",
    "new_df_cl"
   ]
  },
  {
   "cell_type": "code",
   "execution_count": null,
   "metadata": {},
   "outputs": [],
   "source": [
    "i = \"期初餘額\"\n",
    "filt = (new_df[\"會計項目\"].str.contains(i))\n",
    "x = new_df.loc[filt]\n",
    "kind = \"非控制權益\"\n",
    "num = new_df_cl.index(kind)\n",
    "x.iloc[0,[num]][0]\n",
    "# x.iloc[0,[3]][0]"
   ]
  },
  {
   "cell_type": "code",
   "execution_count": null,
   "metadata": {},
   "outputs": [],
   "source": [
    "v = 保留盈餘合計[\"保留盈餘合計\"]\n",
    "v = re.split(r\"-|\\+\",v)\n",
    "for i in v:\n",
    "    print(i)\n",
    "    print(new_df_cl.index(i))"
   ]
  },
  {
   "cell_type": "code",
   "execution_count": null,
   "metadata": {},
   "outputs": [],
   "source": [
    "import pandas as pd\n",
    "\n",
    "v = x\n",
    "v = v.dropna(axis=1)\n",
    "c = v.values\n",
    "c[0][3:]"
   ]
  },
  {
   "cell_type": "code",
   "execution_count": null,
   "metadata": {},
   "outputs": [],
   "source": [
    "import re\n",
    "h = list(x.columns)\n",
    "for i in range(3,len(h)):\n",
    "    s = re.sub('[0-9A-Za-z]',\"\",h[i])\n",
    "    s = s.replace(\" \",\"\")\n",
    "    h[i]=s"
   ]
  },
  {
   "cell_type": "code",
   "execution_count": null,
   "metadata": {},
   "outputs": [],
   "source": [
    "x.columns = h"
   ]
  },
  {
   "cell_type": "code",
   "execution_count": null,
   "metadata": {},
   "outputs": [],
   "source": [
    "x"
   ]
  },
  {
   "cell_type": "code",
   "execution_count": null,
   "metadata": {},
   "outputs": [],
   "source": [
    "# 3310法定盈餘公積 +3320特別盈餘公積 +3350未分配盈餘（或待彌補虧損） =3300保留盈餘合計 \n",
    "# 31XX歸屬於母公司業主之權益總計=3100股本合計 +3200資本公積 +3300保留盈餘合計 +3400其他權益項目合計 \n",
    "\n",
    "# 31XX歸屬於母公司業主之權益總計 +36XX非控制權益  =3XXX權益總額\n",
    "\n"
   ]
  },
  {
   "cell_type": "code",
   "execution_count": null,
   "metadata": {},
   "outputs": [],
   "source": [
    "# D1本期淨利（淨損 )+D3本期其他綜合損益 =D5本期綜合損益總額 \n",
    "\n",
    "# A1期初餘額+Y1權益增加(減少)總額 =Z1期末餘額 \n",
    "\n",
    "# B3提列特別盈餘公積 +B5普通股現金股利 +D1本期淨利（淨損 )+D3本期其他綜合損益+O1非控制權益增減 =Y1權益增加(減少)總額"
   ]
  },
  {
   "cell_type": "code",
   "execution_count": null,
   "metadata": {},
   "outputs": [],
   "source": [
    "new_df"
   ]
  },
  {
   "cell_type": "code",
   "execution_count": null,
   "metadata": {},
   "outputs": [],
   "source": [
    "import numpy as np\n",
    "\n",
    "a = [np.array([1,2])+np.array([3,4])]\n",
    "s = sum(a)\n",
    "if s.all() == s.all():\n",
    "    print(123)"
   ]
  }
 ],
 "metadata": {
  "interpreter": {
   "hash": "cf92aa13fedf815d5c8dd192b8d835913fde3e8bc926b2a0ad6cc74ef2ba3ca2"
  },
  "kernelspec": {
   "display_name": "Python 3.9.5 64-bit",
   "language": "python",
   "name": "python3"
  },
  "language_info": {
   "codemirror_mode": {
    "name": "ipython",
    "version": 3
   },
   "file_extension": ".py",
   "mimetype": "text/x-python",
   "name": "python",
   "nbconvert_exporter": "python",
   "pygments_lexer": "ipython3",
   "version": "3.9.5"
  },
  "orig_nbformat": 4
 },
 "nbformat": 4,
 "nbformat_minor": 2
}
