{
 "cells": [
  {
   "cell_type": "code",
   "execution_count": 11,
   "metadata": {},
   "outputs": [],
   "source": [
    "營業毛利_毛損 = {\"營業毛利（毛損）\":\"營業收入合計-營業成本合計\"}\n",
    "\n",
    "營業毛利_毛損_淨額 = {\"營業毛利（毛損）淨額\":\"營業毛利（毛損）\"}\n",
    "\n",
    "營業費用合計 = {\"營業費用合計\":\"推銷費用+管理費用+研究發展費用+預期信用減損損失(利益)\"}\n",
    "\n",
    "營業利益_損失 = {\"營業利益（損失）\":\"營業毛利（毛損）-營業費用合計+其他收益及費損淨額\"}\n",
    "\n",
    "營業外收入及支出合計 = {\"營業外收入及支出合計\":\"利息收入合計+其他收入合計+其他利益及損失淨額-財務成本淨額+採用權益法認列之關聯企業及合資損益之份額淨額\"} \n",
    "\n",
    "繼續營業單位稅前淨利_淨損 = {\"繼續營業單位稅前淨利（淨損）\":\"營業利益（損失）+營業外收入及支出合計\"}\n",
    "\n",
    "繼續營業單位本期淨利_淨損 = {\"繼續營業單位本期淨利（淨損）\":\"繼續營業單位稅前淨利（淨損）-所得稅費用（利益）合計\"}\n",
    "\n",
    "本期淨利_淨損 = {\"本期淨利（淨損）\":\"繼續營業單位本期淨利（淨損）\"}\n",
    "\n",
    "不重分類至損益之項目總額 = {\"不重分類至損益之項目總額\":\"確定福利計畫之再衡量數+透過其他綜合損益按公允價值衡量之權益工具投資未實現評價損益 ＋採用權益法認列之關聯企業及合資之其他綜合損益之份額-不重分類至損益之項目-與不重分類之項目相關之所得稅\"}\n",
    "\n",
    "其他綜合損益_淨額 = {\"其他綜合損益（淨額）\":\"不重分類至損益之項目總額\"} \n",
    "\n",
    "後續可能重分類至損益之項目總額 = {\"後續可能重分類至損益之項目總額\":\"國外營運機構財務報表換算之兌換差額-與可能重分類之項目相關之所得稅\"}\n",
    "\n",
    "其他綜合損益_淨額 = {\"\":\"不重分類至損益之項目總額+後續可能重分類至損益之項目總額\"}\n",
    "\n",
    "本期綜合損益總額 = {\"本期綜合損益總額\":\"本期淨利（淨損）+其他綜合損益（淨額）\"}\n",
    "\n",
    "本期淨利_淨損 = {\"本期淨利（淨損）\":\"母公司業主（淨利／損）+ 非控制權益（淨利／損）\"}\n",
    "\n",
    "綜合損益總額歸屬於 = {\"綜合損益總額歸屬於\":\"母公司業主（綜合損益）+非控制權益（綜合損益）\"}\n"
   ]
  },
  {
   "cell_type": "code",
   "execution_count": 12,
   "metadata": {},
   "outputs": [],
   "source": [
    "import pandas as pd\n",
    "\n",
    "df = pd.read_csv(\"2707_2019_4.csv\")"
   ]
  },
  {
   "cell_type": "code",
   "execution_count": 13,
   "metadata": {},
   "outputs": [
    {
     "name": "stderr",
     "output_type": "stream",
     "text": [
      "c:\\Users\\User\\AppData\\Local\\Programs\\Python\\Python39\\lib\\site-packages\\pandas\\core\\strings\\accessor.py:101: UserWarning: This pattern has match groups. To actually get the groups, use str.extract.\n",
      "  return func(self, *args, **kwargs)\n"
     ]
    }
   ],
   "source": [
    "import re\n",
    "Profit_and_Loss_Account_all_function = [營業毛利_毛損,營業毛利_毛損_淨額,營業費用合計,營業利益_損失,營業外收入及支出合計,繼續營業單位稅前淨利_淨損,繼續營業單位本期淨利_淨損,本期淨利_淨損,不重分類至損益之項目總額,其他綜合損益_淨額,後續可能重分類至損益之項目總額,其他綜合損益_淨額,本期綜合損益總額,本期淨利_淨損,綜合損益總額歸屬於]\n",
    "new_dict = {}\n",
    "kind_list = []\n",
    "money_list = []\n",
    "status_list = []\n",
    "for f in Profit_and_Loss_Account_all_function:\n",
    "    for k ,v in f.items():\n",
    "        temp_sum = 0\n",
    "        temp_ls = re.split(r\"-|\\+\",v)\n",
    "        for i in temp_ls:\n",
    "            filt = (df[\"會計項目Accounting Title\"].str.contains(i))\n",
    "            x = df.loc[filt]\n",
    "            if x.empty:\n",
    "                pass\n",
    "            else:\n",
    "                # try:\n",
    "                temp_num = x.iloc[0,[3]][0]\n",
    "                # print(temp_num)\n",
    "                if \"(\" in str(temp_num):\n",
    "                    temp_num = temp_num.replace(\"(\",\"\")\n",
    "                    temp_num = temp_num.replace(\")\",\"\")\n",
    "                    temp_num = temp_num.replace(\",\",\"\")\n",
    "                    temp_num = -(int(temp_num))\n",
    "                    temp_sum+=temp_num\n",
    "                elif type(temp_num) == float:\n",
    "                    temp_sum += temp_num\n",
    "                else:\n",
    "                    temp_num = int(temp_num)\n",
    "                    temp_sum += temp_num \n",
    "\n",
    "        try:\n",
    "            k_filt = (df[\"會計項目Accounting Title\"].str.contains(k))\n",
    "            k_x = df.loc[k_filt]\n",
    "            k_num = k_x.iloc[0,[3]][0]\n",
    "            if \"(\" in k_num:\n",
    "                k_num = temp_num.replace(\"(\",\"\")\n",
    "                k_num = temp_num.replace(\")\",\"\")\n",
    "                k_num = temp_num.replace(\",\",\"\")\n",
    "                k_num = -(int(k_num))\n",
    "            else:\n",
    "                k_num = int(k_num)\n",
    "\n",
    "            if k_num == temp_sum:\n",
    "                kind_list.append(k)\n",
    "                money_list.append(k_num)\n",
    "                status_list.append(\"True\")\n",
    "            else:\n",
    "                kind_list.append(k)\n",
    "                money_list.append(k_num)\n",
    "                status_list.append(\"False\")\n",
    "\n",
    "\n",
    "            new_dict[\"會科\"]=kind_list\n",
    "            new_dict[\"金額\"]=money_list\n",
    "            new_dict[\"符合\"]=status_list\n",
    "        except:\n",
    "            pass\n",
    "\n",
    "df = pd.DataFrame(new_dict)\n",
    "df.to_csv(\"kjdhfs.csv\")\n"
   ]
  },
  {
   "cell_type": "code",
   "execution_count": 14,
   "metadata": {},
   "outputs": [
    {
     "data": {
      "text/plain": [
       "15"
      ]
     },
     "execution_count": 14,
     "metadata": {},
     "output_type": "execute_result"
    }
   ],
   "source": [
    "len(Profit_and_Loss_Account_all_function)"
   ]
  }
 ],
 "metadata": {
  "interpreter": {
   "hash": "cf92aa13fedf815d5c8dd192b8d835913fde3e8bc926b2a0ad6cc74ef2ba3ca2"
  },
  "kernelspec": {
   "display_name": "Python 3.9.5 64-bit",
   "language": "python",
   "name": "python3"
  },
  "language_info": {
   "codemirror_mode": {
    "name": "ipython",
    "version": 3
   },
   "file_extension": ".py",
   "mimetype": "text/x-python",
   "name": "python",
   "nbconvert_exporter": "python",
   "pygments_lexer": "ipython3",
   "version": "3.9.5"
  },
  "orig_nbformat": 4
 },
 "nbformat": 4,
 "nbformat_minor": 2
}
