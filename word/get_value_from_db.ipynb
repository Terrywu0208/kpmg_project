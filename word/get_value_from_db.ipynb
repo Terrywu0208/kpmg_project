{
 "cells": [
  {
   "cell_type": "code",
   "execution_count": 26,
   "metadata": {},
   "outputs": [
    {
     "name": "stdout",
     "output_type": "stream",
     "text": [
      "[['1208477', '-1956'], ['Null'], ['3819177', '-148'], ['Null']]\n"
     ]
    }
   ],
   "source": [
    "# 資料庫串接\n",
    "import MySQLdb\n",
    "import pandas as pd\n",
    "\n",
    "def connect_db(company_id_input,year_input,season_input):\n",
    "    conn = MySQLdb.Connect(host = 'localhost',\n",
    "                        port = 3306,\n",
    "                        user = 'root',\n",
    "                        db = 'kpmg',\n",
    "                        charset='utf8')\n",
    "    # 輸入你的資料庫連線資訊\n",
    "    cur = conn.cursor()\n",
    "    cur.execute(f\"SELECT `path` FROM `financial_statements` WHERE `company_id` = {company_id_input} AND `year` = {year_input} AND `season` = {season_input} \")\n",
    "    result_set = cur.fetchall()\n",
    "    # result_set\n",
    "    df = pd.read_csv(f\"../../{result_set[0][0]}\")\n",
    "    df2 = pd.read_csv(f\"../../{result_set[1][0]}\")\n",
    "    df3 = pd.read_csv(f\"../../{result_set[2][0]}\")\n",
    "    df4 = pd.read_csv(f\"../../{result_set[3][0]}\")\n",
    "    df_ls = [df,df2,df3,df4]\n",
    "    return df_ls\n",
    "\n",
    "def main(company_id_input,year_input,season_input,input_ls):\n",
    "    store_ls = []\n",
    "    negative_ls = [\"營業費用合計\",\"財務成本淨額\",\"所得稅費用（利益）合計\",\"不重分類至損益之項目\",\"與不重分類之項目相關之所得稅\"]\n",
    "    df_ls = connect_db(company_id_input,year_input,season_input)\n",
    "    for search in input_ls:\n",
    "        temp_ls = []\n",
    "        for each_df in df_ls:\n",
    "            try:\n",
    "                filt = (each_df[\"會計項目Accounting Title\"].str.contains(search))\n",
    "                filt_result = each_df.loc[filt]\n",
    "                if filt_result.empty:\n",
    "                    continue\n",
    "                else:\n",
    "                    temp_num = filt_result.iloc[0,[3]][0]\n",
    "                    if pd.isna(temp_num):\n",
    "                        continue\n",
    "                    else:\n",
    "                        if \"(\" in str(temp_num):\n",
    "                            temp_num = temp_num.replace(\"(\",\"\")\n",
    "                            temp_num = temp_num.replace(\")\",\"\")\n",
    "                            temp_num = temp_num.replace(\",\",\"\")\n",
    "                            temp_num = str(-(int(temp_num)))\n",
    "                        elif search in negative_ls:\n",
    "                            temp_num =  str(-(int(temp_num)))\n",
    "                        temp_ls.append(temp_num)\n",
    "            except:\n",
    "                pass\n",
    "        if temp_ls == []:\n",
    "            store_ls.append([\"Null\"])\n",
    "        else:\n",
    "            store_ls.append(temp_ls)\n",
    "    return store_ls\n",
    "main(company_id_input,year_input,season_input,input_ls)"
   ]
  }
 ],
 "metadata": {
  "interpreter": {
   "hash": "cf92aa13fedf815d5c8dd192b8d835913fde3e8bc926b2a0ad6cc74ef2ba3ca2"
  },
  "kernelspec": {
   "display_name": "Python 3.9.5 64-bit",
   "language": "python",
   "name": "python3"
  },
  "language_info": {
   "codemirror_mode": {
    "name": "ipython",
    "version": 3
   },
   "file_extension": ".py",
   "mimetype": "text/x-python",
   "name": "python",
   "nbconvert_exporter": "python",
   "pygments_lexer": "ipython3",
   "version": "3.9.5"
  },
  "orig_nbformat": 4
 },
 "nbformat": 4,
 "nbformat_minor": 2
}
